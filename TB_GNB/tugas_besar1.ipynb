{
 "cells": [
  {
   "cell_type": "code",
   "execution_count": 18,
   "id": "f117791b",
   "metadata": {},
   "outputs": [],
   "source": [
    "# 1\n",
    "import pandas as pd\n",
    "from sklearn.model_selection import train_test_split\n",
    "from sklearn.pipeline import Pipeline\n",
    "from sklearn.compose import ColumnTransformer\n",
    "from jcopml.pipeline import num_pipe, cat_pipe"
   ]
  },
  {
   "cell_type": "code",
   "execution_count": 19,
   "id": "ea428686",
   "metadata": {},
   "outputs": [
    {
     "data": {
      "text/html": [
       "<div>\n",
       "<style scoped>\n",
       "    .dataframe tbody tr th:only-of-type {\n",
       "        vertical-align: middle;\n",
       "    }\n",
       "\n",
       "    .dataframe tbody tr th {\n",
       "        vertical-align: top;\n",
       "    }\n",
       "\n",
       "    .dataframe thead th {\n",
       "        text-align: right;\n",
       "    }\n",
       "</style>\n",
       "<table border=\"1\" class=\"dataframe\">\n",
       "  <thead>\n",
       "    <tr style=\"text-align: right;\">\n",
       "      <th></th>\n",
       "      <th>jenis_kelamin</th>\n",
       "      <th>pekerjaan</th>\n",
       "      <th>status</th>\n",
       "      <th>ipk</th>\n",
       "      <th>lulus</th>\n",
       "    </tr>\n",
       "  </thead>\n",
       "  <tbody>\n",
       "    <tr>\n",
       "      <th>0</th>\n",
       "      <td>laki</td>\n",
       "      <td>mhs</td>\n",
       "      <td>belum</td>\n",
       "      <td>3.17</td>\n",
       "      <td>tepat</td>\n",
       "    </tr>\n",
       "    <tr>\n",
       "      <th>1</th>\n",
       "      <td>laki</td>\n",
       "      <td>bekerja</td>\n",
       "      <td>belum</td>\n",
       "      <td>3.30</td>\n",
       "      <td>tepat</td>\n",
       "    </tr>\n",
       "    <tr>\n",
       "      <th>2</th>\n",
       "      <td>perempuan</td>\n",
       "      <td>mhs</td>\n",
       "      <td>belum</td>\n",
       "      <td>3.01</td>\n",
       "      <td>tepat</td>\n",
       "    </tr>\n",
       "    <tr>\n",
       "      <th>3</th>\n",
       "      <td>perempuan</td>\n",
       "      <td>mhs</td>\n",
       "      <td>menikah</td>\n",
       "      <td>3.25</td>\n",
       "      <td>tepat</td>\n",
       "    </tr>\n",
       "    <tr>\n",
       "      <th>4</th>\n",
       "      <td>laki</td>\n",
       "      <td>bekerja</td>\n",
       "      <td>menikah</td>\n",
       "      <td>3.20</td>\n",
       "      <td>telat</td>\n",
       "    </tr>\n",
       "    <tr>\n",
       "      <th>5</th>\n",
       "      <td>laki</td>\n",
       "      <td>bekerja</td>\n",
       "      <td>menikah</td>\n",
       "      <td>2.50</td>\n",
       "      <td>telat</td>\n",
       "    </tr>\n",
       "    <tr>\n",
       "      <th>6</th>\n",
       "      <td>perempuan</td>\n",
       "      <td>bekerja</td>\n",
       "      <td>menikah</td>\n",
       "      <td>3.00</td>\n",
       "      <td>telat</td>\n",
       "    </tr>\n",
       "    <tr>\n",
       "      <th>7</th>\n",
       "      <td>perempuan</td>\n",
       "      <td>bekerja</td>\n",
       "      <td>belum</td>\n",
       "      <td>2.70</td>\n",
       "      <td>telat</td>\n",
       "    </tr>\n",
       "    <tr>\n",
       "      <th>8</th>\n",
       "      <td>laki</td>\n",
       "      <td>bekerja</td>\n",
       "      <td>belum</td>\n",
       "      <td>2.40</td>\n",
       "      <td>telat</td>\n",
       "    </tr>\n",
       "    <tr>\n",
       "      <th>9</th>\n",
       "      <td>perempuan</td>\n",
       "      <td>mhs</td>\n",
       "      <td>menikah</td>\n",
       "      <td>2.50</td>\n",
       "      <td>telat</td>\n",
       "    </tr>\n",
       "    <tr>\n",
       "      <th>10</th>\n",
       "      <td>perempuan</td>\n",
       "      <td>mhs</td>\n",
       "      <td>belum</td>\n",
       "      <td>2.50</td>\n",
       "      <td>telat</td>\n",
       "    </tr>\n",
       "    <tr>\n",
       "      <th>11</th>\n",
       "      <td>perempuan</td>\n",
       "      <td>mhs</td>\n",
       "      <td>belum</td>\n",
       "      <td>3.50</td>\n",
       "      <td>tepat</td>\n",
       "    </tr>\n",
       "    <tr>\n",
       "      <th>12</th>\n",
       "      <td>laki</td>\n",
       "      <td>bekerja</td>\n",
       "      <td>menikah</td>\n",
       "      <td>3.30</td>\n",
       "      <td>tepat</td>\n",
       "    </tr>\n",
       "    <tr>\n",
       "      <th>13</th>\n",
       "      <td>laki</td>\n",
       "      <td>mhs</td>\n",
       "      <td>menikah</td>\n",
       "      <td>3.25</td>\n",
       "      <td>tepat</td>\n",
       "    </tr>\n",
       "    <tr>\n",
       "      <th>14</th>\n",
       "      <td>laki</td>\n",
       "      <td>mhs</td>\n",
       "      <td>belum</td>\n",
       "      <td>2.30</td>\n",
       "      <td>telat</td>\n",
       "    </tr>\n",
       "  </tbody>\n",
       "</table>\n",
       "</div>"
      ],
      "text/plain": [
       "   jenis_kelamin pekerjaan   status   ipk  lulus\n",
       "0           laki       mhs    belum  3.17  tepat\n",
       "1           laki   bekerja    belum  3.30  tepat\n",
       "2      perempuan       mhs    belum  3.01  tepat\n",
       "3      perempuan       mhs  menikah  3.25  tepat\n",
       "4           laki   bekerja  menikah  3.20  telat\n",
       "5           laki   bekerja  menikah  2.50  telat\n",
       "6      perempuan   bekerja  menikah  3.00  telat\n",
       "7      perempuan   bekerja    belum  2.70  telat\n",
       "8           laki   bekerja    belum  2.40  telat\n",
       "9      perempuan       mhs  menikah  2.50  telat\n",
       "10     perempuan       mhs    belum  2.50  telat\n",
       "11     perempuan       mhs    belum  3.50  tepat\n",
       "12          laki   bekerja  menikah  3.30  tepat\n",
       "13          laki       mhs  menikah  3.25  tepat\n",
       "14          laki       mhs    belum  2.30  telat"
      ]
     },
     "execution_count": 19,
     "metadata": {},
     "output_type": "execute_result"
    }
   ],
   "source": [
    "# 2\n",
    "df = pd.read_csv(\"dataset1_ori.csv\")\n",
    "df"
   ]
  },
  {
   "cell_type": "code",
   "execution_count": 20,
   "id": "5667ec8f",
   "metadata": {},
   "outputs": [],
   "source": [
    "# 3\n",
    "X = df.drop(columns=\"lulus\")\n",
    "y = df.lulus\n"
   ]
  },
  {
   "cell_type": "code",
   "execution_count": 21,
   "id": "a33c3eb1",
   "metadata": {},
   "outputs": [
    {
     "data": {
      "text/plain": [
       "((12, 4), (3, 4), (12,), (3,))"
      ]
     },
     "execution_count": 21,
     "metadata": {},
     "output_type": "execute_result"
    }
   ],
   "source": [
    "# 4\n",
    "X_train, X_test, y_train, y_test = train_test_split(X, y, test_size=0.2, random_state=42)\n",
    "X_train.shape, X_test.shape, y_train.shape, y_test.shape\n"
   ]
  },
  {
   "cell_type": "code",
   "execution_count": 22,
   "id": "c066eccb",
   "metadata": {},
   "outputs": [],
   "source": [
    "# 5\n",
    "preprocessor = ColumnTransformer([\n",
    "    ('numeric', num_pipe(), [\"ipk\"]),\n",
    "    ('categoric', cat_pipe(encoder='onehot'), ['jenis_kelamin', 'pekerjaan', 'status']),\n",
    "])\n"
   ]
  },
  {
   "cell_type": "code",
   "execution_count": 23,
   "id": "2d908413",
   "metadata": {},
   "outputs": [],
   "source": [
    "# 6\n",
    "from sklearn.naive_bayes import GaussianNB\n",
    "pipeline = Pipeline([\n",
    "    ('prep', preprocessor),\n",
    "    ('algo', GaussianNB())\n",
    "])\n"
   ]
  },
  {
   "cell_type": "code",
   "execution_count": 24,
   "id": "8fe0323c",
   "metadata": {},
   "outputs": [
    {
     "data": {
      "text/plain": [
       "Pipeline(steps=[('prep',\n",
       "                 ColumnTransformer(transformers=[('numeric',\n",
       "                                                  Pipeline(steps=[('imputer',\n",
       "                                                                   SimpleImputer(strategy='median'))]),\n",
       "                                                  ['ipk']),\n",
       "                                                 ('categoric',\n",
       "                                                  Pipeline(steps=[('imputer',\n",
       "                                                                   SimpleImputer(strategy='most_frequent')),\n",
       "                                                                  ('onehot',\n",
       "                                                                   OneHotEncoder(handle_unknown='ignore'))]),\n",
       "                                                  ['jenis_kelamin', 'pekerjaan',\n",
       "                                                   'status'])])),\n",
       "                ('algo', GaussianNB())])"
      ]
     },
     "execution_count": 24,
     "metadata": {},
     "output_type": "execute_result"
    }
   ],
   "source": [
    "# 7\n",
    "pipeline.fit(X_train, y_train)\n"
   ]
  },
  {
   "cell_type": "code",
   "execution_count": 25,
   "id": "9c8de42c",
   "metadata": {},
   "outputs": [
    {
     "data": {
      "text/plain": [
       "0.9166666666666666"
      ]
     },
     "execution_count": 25,
     "metadata": {},
     "output_type": "execute_result"
    }
   ],
   "source": [
    "# 8\n",
    "pipeline.score(X_train, y_train)\n"
   ]
  },
  {
   "cell_type": "code",
   "execution_count": 26,
   "id": "a53ffbd2",
   "metadata": {},
   "outputs": [
    {
     "data": {
      "image/png": "[encoded data removed]",
      "text/plain": [
       "<Figure size 792x360 with 2 Axes>"
      ]
     },
     "metadata": {
      "needs_background": "light"
     },
     "output_type": "display_data"
    }
   ],
   "source": [
    "# 9\n",
    "from jcopml.plot import plot_confusion_matrix\n",
    "plot_confusion_matrix(X_train, y_train, X_test, y_test, pipeline)\n"
   ]
  },
  {
   "cell_type": "code",
   "execution_count": 28,
   "id": "40e69be3",
   "metadata": {},
   "outputs": [
    {
     "data": {
      "text/html": [
       "<div>\n",
       "<style scoped>\n",
       "    .dataframe tbody tr th:only-of-type {\n",
       "        vertical-align: middle;\n",
       "    }\n",
       "\n",
       "    .dataframe tbody tr th {\n",
       "        vertical-align: top;\n",
       "    }\n",
       "\n",
       "    .dataframe thead th {\n",
       "        text-align: right;\n",
       "    }\n",
       "</style>\n",
       "<table border=\"1\" class=\"dataframe\">\n",
       "  <thead>\n",
       "    <tr style=\"text-align: right;\">\n",
       "      <th></th>\n",
       "      <th>jenis_kelamin</th>\n",
       "      <th>pekerjaan</th>\n",
       "      <th>status</th>\n",
       "      <th>ipk</th>\n",
       "    </tr>\n",
       "  </thead>\n",
       "  <tbody>\n",
       "    <tr>\n",
       "      <th>0</th>\n",
       "      <td>laki</td>\n",
       "      <td>mhs</td>\n",
       "      <td>belum</td>\n",
       "      <td>2.7</td>\n",
       "    </tr>\n",
       "  </tbody>\n",
       "</table>\n",
       "</div>"
      ],
      "text/plain": [
       "  jenis_kelamin pekerjaan status  ipk\n",
       "0          laki       mhs  belum  2.7"
      ]
     },
     "execution_count": 28,
     "metadata": {},
     "output_type": "execute_result"
    }
   ],
   "source": [
    "# 10\n",
    "X_pred = pd.read_csv(\"testing.csv\")\n",
    "X_pred\n"
   ]
  },
  {
   "cell_type": "code",
   "execution_count": 12,
   "id": "d5ce67db",
   "metadata": {},
   "outputs": [
    {
     "data": {
      "text/plain": [
       "array([0], dtype=int64)"
      ]
     },
     "execution_count": 12,
     "metadata": {},
     "output_type": "execute_result"
    }
   ],
   "source": [
    "# 11\n",
    "pipeline.predict(X_pred)\n"
   ]
  },
  {
   "cell_type": "code",
   "execution_count": 13,
   "id": "fb1966b1",
   "metadata": {},
   "outputs": [
    {
     "data": {
      "text/html": [
       "<div>\n",
       "<style scoped>\n",
       "    .dataframe tbody tr th:only-of-type {\n",
       "        vertical-align: middle;\n",
       "    }\n",
       "\n",
       "    .dataframe tbody tr th {\n",
       "        vertical-align: top;\n",
       "    }\n",
       "\n",
       "    .dataframe thead th {\n",
       "        text-align: right;\n",
       "    }\n",
       "</style>\n",
       "<table border=\"1\" class=\"dataframe\">\n",
       "  <thead>\n",
       "    <tr style=\"text-align: right;\">\n",
       "      <th></th>\n",
       "      <th>jenis_kelamin</th>\n",
       "      <th>pekerjaan</th>\n",
       "      <th>status</th>\n",
       "      <th>ipk</th>\n",
       "      <th>lulus</th>\n",
       "    </tr>\n",
       "  </thead>\n",
       "  <tbody>\n",
       "    <tr>\n",
       "      <th>0</th>\n",
       "      <td>laki</td>\n",
       "      <td>mhs</td>\n",
       "      <td>belum</td>\n",
       "      <td>2.7</td>\n",
       "      <td>0</td>\n",
       "    </tr>\n",
       "  </tbody>\n",
       "</table>\n",
       "</div>"
      ],
      "text/plain": [
       "  jenis_kelamin pekerjaan status  ipk  lulus\n",
       "0          laki       mhs  belum  2.7      0"
      ]
     },
     "execution_count": 13,
     "metadata": {},
     "output_type": "execute_result"
    }
   ],
   "source": [
    "# 12\n",
    "X_pred[\"lulus\"] = pipeline.predict(X_pred)\n",
    "X_pred\n"
   ]
  },
  {
   "cell_type": "code",
   "execution_count": null,
   "id": "2138cefd",
   "metadata": {},
   "outputs": [],
   "source": []
  }
 ],
 "metadata": {
  "kernelspec": {
   "display_name": "Python 3 (ipykernel)",
   "language": "python",
   "name": "python3"
  },
  "language_info": {
   "codemirror_mode": {
    "name": "ipython",
    "version": 3
   },
   "file_extension": ".py",
   "mimetype": "text/x-python",
   "name": "python",
   "nbconvert_exporter": "python",
   "pygments_lexer": "ipython3",
   "version": "3.7.13"
  }
 },
 "nbformat": 4,
 "nbformat_minor": 5
}
